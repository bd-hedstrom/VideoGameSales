{
  "nbformat": 4,
  "nbformat_minor": 0,
  "metadata": {
    "colab": {
      "name": "Project2_VideoGameSales_Hedstrom",
      "provenance": [],
      "collapsed_sections": [],
      "mount_file_id": "1L2RhO7mqYRwLpSOCqbYI-et00M6U9HId",
      "authorship_tag": "ABX9TyOKvVJ/RtTUFxlBdfuAhu/1",
      "include_colab_link": true
    },
    "kernelspec": {
      "name": "python3",
      "display_name": "Python 3"
    },
    "language_info": {
      "name": "python"
    }
  },
  "cells": [
    {
      "cell_type": "markdown",
      "metadata": {
        "id": "view-in-github",
        "colab_type": "text"
      },
      "source": [
        "<a href=\"https://colab.research.google.com/github/bd-hedstrom/VideoGameSales/blob/main/Project2_VideoGameSales_Hedstrom.ipynb\" target=\"_parent\"><img src=\"https://colab.research.google.com/assets/colab-badge.svg\" alt=\"Open In Colab\"/></a>"
      ]
    },
    {
      "cell_type": "markdown",
      "metadata": {
        "id": "6NGMDb00TlGp"
      },
      "source": [
        "# Choice 1: Japanese Whiskey Reviews\n"
      ]
    },
    {
      "cell_type": "markdown",
      "metadata": {
        "id": "GpXNSDZAUUuw"
      },
      "source": [
        "**1) Source of data**\n",
        "\n",
        " https://www.kaggle.com/koki25ando/japanese-whisky-review"
      ]
    },
    {
      "cell_type": "markdown",
      "metadata": {
        "id": "Chdox5VQUr4g"
      },
      "source": [
        "**2) Brief description of the data**\n",
        "\n",
        "A collection of reviews of 4 top selling japanese whiskey brands."
      ]
    },
    {
      "cell_type": "markdown",
      "metadata": {
        "id": "TkzD0iSGVibB"
      },
      "source": [
        "**3) What is the target?**\n",
        "\n",
        "My target is to find a way to predict the probability someone will like a whiskey based on the age."
      ]
    },
    {
      "cell_type": "markdown",
      "metadata": {
        "id": "Dum5ePF1WNR4"
      },
      "source": [
        "**4) Is this a classification or regression problem?**\n",
        "\n",
        "I believe this would require a classification oriented approach as I would be evaluating whether the rating is good, bad or somewhere in the middle"
      ]
    },
    {
      "cell_type": "markdown",
      "metadata": {
        "id": "DILvvu_GXmxP"
      },
      "source": [
        "**5) How many features?**\n",
        "\n",
        "5"
      ]
    },
    {
      "cell_type": "markdown",
      "metadata": {
        "id": "-GeHy8chYCGn"
      },
      "source": [
        "**6) How many rows of data?**\n",
        "\n",
        "1130"
      ]
    },
    {
      "cell_type": "markdown",
      "metadata": {
        "id": "_Y9XLNKpapoF"
      },
      "source": [
        "**7) What, if any, challenges do your foresee in cleaning, exploring, or modeling with this dataset?**\n",
        "\n",
        "The reviews themselves might be a bit of a nightmare. Inconsistent/Incorrect spelling, unclear opinions..Might be a difficult task. However, I think being strategic and filtering for specific buzzwords to gather some insightful data would be fun!"
      ]
    },
    {
      "cell_type": "code",
      "metadata": {
        "id": "OfcVpHMYYSpW"
      },
      "source": [
        "import pandas as pd\n",
        "import pandas as pd\n",
        "import numpy as np\n",
        "import matplotlib.pyplot as plt\n",
        "import seaborn as sns\n",
        "from sklearn.model_selection import train_test_split\n",
        "from sklearn.metrics import r2_score\n",
        "from sklearn.linear_model import LinearRegression\n",
        "from sklearn.metrics import mean_absolute_error\n",
        "from sklearn.metrics import mean_squared_error\n",
        "\n"
      ],
      "execution_count": null,
      "outputs": []
    },
    {
      "cell_type": "code",
      "metadata": {
        "id": "2ysThrnYtm5W"
      },
      "source": [
        "#filename = '/content/japanese_whisky_review.csv'\n",
        "#raw_whiskey_data = pd.read_csv(filename)\n",
        "#raw_whiskey_data.head()"
      ],
      "execution_count": null,
      "outputs": []
    },
    {
      "cell_type": "code",
      "metadata": {
        "id": "N5R23M2cYfz_"
      },
      "source": [
        "#raw_whiskey_data.shape"
      ],
      "execution_count": null,
      "outputs": []
    },
    {
      "cell_type": "markdown",
      "metadata": {
        "id": "VfznoU_DTvBp"
      },
      "source": [
        "## Choice 2: Video Game Sales"
      ]
    },
    {
      "cell_type": "markdown",
      "metadata": {
        "id": "e8S6ZoCCUMOQ"
      },
      "source": [
        "**1) Source of data**\n",
        "\n",
        "https://www.kaggle.com/gregorut/videogamesales"
      ]
    },
    {
      "cell_type": "markdown",
      "metadata": {
        "id": "qr8IJLTkUbGY"
      },
      "source": [
        "**2) Brief description of data**\n",
        "\n",
        "A compilation of reviews of various video games"
      ]
    },
    {
      "cell_type": "markdown",
      "metadata": {
        "id": "-ehIeXpfUvPI"
      },
      "source": [
        "**2) Brief description of the data**\n",
        "\n",
        " List of video game sales consisting of titles which sold more than 100,000 copies"
      ]
    },
    {
      "cell_type": "markdown",
      "metadata": {
        "id": "M2dsZC0YVlZg"
      },
      "source": [
        "**3) What is the target?**\n",
        "\n",
        "I would like to build a model to find the best year to release a game and on which platform"
      ]
    },
    {
      "cell_type": "markdown",
      "metadata": {
        "id": "kOaRUca6WMeI"
      },
      "source": [
        "**4) Is this a classification or regression problem?**\n",
        "\n",
        "I believe this would be a regression problem"
      ]
    },
    {
      "cell_type": "markdown",
      "metadata": {
        "id": "NgV_eZqqXr8n"
      },
      "source": [
        "**5) How many features?**\n",
        "\n",
        "11"
      ]
    },
    {
      "cell_type": "markdown",
      "metadata": {
        "id": "qIQpOZWFYFsn"
      },
      "source": [
        "**6) How many rows of data?**\n",
        "\n",
        "16598"
      ]
    },
    {
      "cell_type": "markdown",
      "metadata": {
        "id": "a7ksQSOIZqpk"
      },
      "source": [
        "**7) What, if any, challenges do your foresee in cleaning, exploring, or modeling with this dataset?**\n",
        "\n",
        "I think finding the most appropriate scope would be the most challenging as there is a massive amount of data to narrow down to tell a proper story with the data. The data itself seems very consistent but I think making sure there aren't any hidden spaces or checking for data types will also be a concern."
      ]
    },
    {
      "cell_type": "code",
      "metadata": {
        "colab": {
          "base_uri": "https://localhost:8080/",
          "height": 206
        },
        "id": "cDnEW57SZWNw",
        "outputId": "e76a986b-741b-4618-9e58-403b34c0170d"
      },
      "source": [
        "import pandas as pd\n",
        "import numpy as np\n",
        "import matplotlib.pyplot as plt\n",
        "import seaborn as sns\n",
        "from sklearn.model_selection import train_test_split\n",
        "from sklearn.metrics import r2_score\n",
        "from sklearn.linear_model import LinearRegression\n",
        "from sklearn.metrics import mean_absolute_error\n",
        "from sklearn.metrics import mean_squared_error\n",
        "import pandas as pd\n",
        "\n",
        "filename = '/content/videoGameSales.csv'\n",
        "raw_VG_data = pd.read_csv(filename)\n",
        "raw_VG_data.head()"
      ],
      "execution_count": null,
      "outputs": [
        {
          "output_type": "execute_result",
          "data": {
            "text/html": [
              "<div>\n",
              "<style scoped>\n",
              "    .dataframe tbody tr th:only-of-type {\n",
              "        vertical-align: middle;\n",
              "    }\n",
              "\n",
              "    .dataframe tbody tr th {\n",
              "        vertical-align: top;\n",
              "    }\n",
              "\n",
              "    .dataframe thead th {\n",
              "        text-align: right;\n",
              "    }\n",
              "</style>\n",
              "<table border=\"1\" class=\"dataframe\">\n",
              "  <thead>\n",
              "    <tr style=\"text-align: right;\">\n",
              "      <th></th>\n",
              "      <th>Rank</th>\n",
              "      <th>Name</th>\n",
              "      <th>Platform</th>\n",
              "      <th>Year</th>\n",
              "      <th>Genre</th>\n",
              "      <th>Publisher</th>\n",
              "      <th>NA_Sales</th>\n",
              "      <th>EU_Sales</th>\n",
              "      <th>JP_Sales</th>\n",
              "      <th>Other_Sales</th>\n",
              "      <th>Global_Sales</th>\n",
              "    </tr>\n",
              "  </thead>\n",
              "  <tbody>\n",
              "    <tr>\n",
              "      <th>0</th>\n",
              "      <td>1</td>\n",
              "      <td>Wii Sports</td>\n",
              "      <td>Wii</td>\n",
              "      <td>2006.0</td>\n",
              "      <td>Sports</td>\n",
              "      <td>Nintendo</td>\n",
              "      <td>41.49</td>\n",
              "      <td>29.02</td>\n",
              "      <td>3.77</td>\n",
              "      <td>8.46</td>\n",
              "      <td>82.74</td>\n",
              "    </tr>\n",
              "    <tr>\n",
              "      <th>1</th>\n",
              "      <td>2</td>\n",
              "      <td>Super Mario Bros.</td>\n",
              "      <td>NES</td>\n",
              "      <td>1985.0</td>\n",
              "      <td>Platform</td>\n",
              "      <td>Nintendo</td>\n",
              "      <td>29.08</td>\n",
              "      <td>3.58</td>\n",
              "      <td>6.81</td>\n",
              "      <td>0.77</td>\n",
              "      <td>40.24</td>\n",
              "    </tr>\n",
              "    <tr>\n",
              "      <th>2</th>\n",
              "      <td>3</td>\n",
              "      <td>Mario Kart Wii</td>\n",
              "      <td>Wii</td>\n",
              "      <td>2008.0</td>\n",
              "      <td>Racing</td>\n",
              "      <td>Nintendo</td>\n",
              "      <td>15.85</td>\n",
              "      <td>12.88</td>\n",
              "      <td>3.79</td>\n",
              "      <td>3.31</td>\n",
              "      <td>35.82</td>\n",
              "    </tr>\n",
              "    <tr>\n",
              "      <th>3</th>\n",
              "      <td>4</td>\n",
              "      <td>Wii Sports Resort</td>\n",
              "      <td>Wii</td>\n",
              "      <td>2009.0</td>\n",
              "      <td>Sports</td>\n",
              "      <td>Nintendo</td>\n",
              "      <td>15.75</td>\n",
              "      <td>11.01</td>\n",
              "      <td>3.28</td>\n",
              "      <td>2.96</td>\n",
              "      <td>33.00</td>\n",
              "    </tr>\n",
              "    <tr>\n",
              "      <th>4</th>\n",
              "      <td>5</td>\n",
              "      <td>Pokemon Red/Pokemon Blue</td>\n",
              "      <td>GB</td>\n",
              "      <td>1996.0</td>\n",
              "      <td>Role-Playing</td>\n",
              "      <td>Nintendo</td>\n",
              "      <td>11.27</td>\n",
              "      <td>8.89</td>\n",
              "      <td>10.22</td>\n",
              "      <td>1.00</td>\n",
              "      <td>31.37</td>\n",
              "    </tr>\n",
              "  </tbody>\n",
              "</table>\n",
              "</div>"
            ],
            "text/plain": [
              "   Rank                      Name Platform  ...  JP_Sales Other_Sales Global_Sales\n",
              "0     1                Wii Sports      Wii  ...      3.77        8.46        82.74\n",
              "1     2         Super Mario Bros.      NES  ...      6.81        0.77        40.24\n",
              "2     3            Mario Kart Wii      Wii  ...      3.79        3.31        35.82\n",
              "3     4         Wii Sports Resort      Wii  ...      3.28        2.96        33.00\n",
              "4     5  Pokemon Red/Pokemon Blue       GB  ...     10.22        1.00        31.37\n",
              "\n",
              "[5 rows x 11 columns]"
            ]
          },
          "metadata": {},
          "execution_count": 58
        }
      ]
    },
    {
      "cell_type": "code",
      "metadata": {
        "colab": {
          "base_uri": "https://localhost:8080/"
        },
        "id": "YuMGU2uwZaSG",
        "outputId": "ed70ec4c-39e4-42a5-c4cc-df062fd95736"
      },
      "source": [
        "raw_VG_data.shape"
      ],
      "execution_count": null,
      "outputs": [
        {
          "output_type": "execute_result",
          "data": {
            "text/plain": [
              "(16598, 11)"
            ]
          },
          "metadata": {},
          "execution_count": 59
        }
      ]
    },
    {
      "cell_type": "markdown",
      "metadata": {
        "id": "-bRkLd9OmePT"
      },
      "source": [
        "#Part 2:  Proceeding with Video Game Sales Data"
      ]
    },
    {
      "cell_type": "markdown",
      "metadata": {
        "id": "0hTjr2GeRBFb"
      },
      "source": [
        "-deleted unnecessary columns\n",
        "\n",
        "-deleted duplicate rows\n",
        "\n",
        "-identified and addressed missing values \n",
        "\n",
        "-identified and corrected inconsistencies in data for categorical values (i.e. Cat, cat, cats)\n",
        "\n",
        "-produced univariate visuals for the target and all features\n",
        "\n",
        "-identified outliers\n",
        "\n",
        "-produce a correlation heatmap and identify any moderate or strong correlations between your target and your features and/or between one feature and another\n",
        "\n",
        "-clearly commented all of your cleaning steps and described any decisions you made "
      ]
    },
    {
      "cell_type": "code",
      "metadata": {
        "colab": {
          "base_uri": "https://localhost:8080/"
        },
        "id": "L312iFf6mira",
        "outputId": "cc4802a8-005f-48f5-d6a0-42716c55e08a"
      },
      "source": [
        "#Started with .info, then .isnull().sum() to get a scope of the data. Noticed there are missing values in Year and Publisher columns.\n",
        "raw_VG_data.info()"
      ],
      "execution_count": null,
      "outputs": [
        {
          "output_type": "stream",
          "name": "stdout",
          "text": [
            "<class 'pandas.core.frame.DataFrame'>\n",
            "RangeIndex: 16598 entries, 0 to 16597\n",
            "Data columns (total 11 columns):\n",
            " #   Column        Non-Null Count  Dtype  \n",
            "---  ------        --------------  -----  \n",
            " 0   Rank          16598 non-null  int64  \n",
            " 1   Name          16598 non-null  object \n",
            " 2   Platform      16598 non-null  object \n",
            " 3   Year          16327 non-null  float64\n",
            " 4   Genre         16598 non-null  object \n",
            " 5   Publisher     16540 non-null  object \n",
            " 6   NA_Sales      16598 non-null  float64\n",
            " 7   EU_Sales      16598 non-null  float64\n",
            " 8   JP_Sales      16598 non-null  float64\n",
            " 9   Other_Sales   16598 non-null  float64\n",
            " 10  Global_Sales  16598 non-null  float64\n",
            "dtypes: float64(6), int64(1), object(4)\n",
            "memory usage: 1.4+ MB\n"
          ]
        }
      ]
    },
    {
      "cell_type": "code",
      "metadata": {
        "colab": {
          "base_uri": "https://localhost:8080/"
        },
        "id": "GFDPrJLzYs06",
        "outputId": "092ed55b-fd23-420e-adbf-d86ed96bfbf4"
      },
      "source": [
        "raw_VG_data.isnull().sum()"
      ],
      "execution_count": null,
      "outputs": [
        {
          "output_type": "execute_result",
          "data": {
            "text/plain": [
              "Rank              0\n",
              "Name              0\n",
              "Platform          0\n",
              "Year            271\n",
              "Genre             0\n",
              "Publisher        58\n",
              "NA_Sales          0\n",
              "EU_Sales          0\n",
              "JP_Sales          0\n",
              "Other_Sales       0\n",
              "Global_Sales      0\n",
              "dtype: int64"
            ]
          },
          "metadata": {},
          "execution_count": 61
        }
      ]
    },
    {
      "cell_type": "code",
      "metadata": {
        "id": "v_uV5Yh-lQ5w"
      },
      "source": [
        "raw_VG_data['Year'].fillna(2006 , inplace = True)\n",
        "raw_VG_data['Publisher'].fillna('No Publisher' , inplace = True)\n"
      ],
      "execution_count": null,
      "outputs": []
    },
    {
      "cell_type": "code",
      "metadata": {
        "id": "dVn5Wn9-oNxF"
      },
      "source": [
        "#Removed Rank column as it is not a feature that has to do with sales in this situation\n",
        "raw_VG_data.drop(columns = 'Rank', inplace = True)"
      ],
      "execution_count": null,
      "outputs": []
    },
    {
      "cell_type": "code",
      "metadata": {
        "colab": {
          "base_uri": "https://localhost:8080/",
          "height": 424
        },
        "id": "JptmHPw79k51",
        "outputId": "24e6cc41-c0b1-4028-9be5-35fcc04200b1"
      },
      "source": [
        "#Dropped Duplicates\n",
        "raw_VG_data.drop_duplicates()"
      ],
      "execution_count": null,
      "outputs": [
        {
          "output_type": "execute_result",
          "data": {
            "text/html": [
              "<div>\n",
              "<style scoped>\n",
              "    .dataframe tbody tr th:only-of-type {\n",
              "        vertical-align: middle;\n",
              "    }\n",
              "\n",
              "    .dataframe tbody tr th {\n",
              "        vertical-align: top;\n",
              "    }\n",
              "\n",
              "    .dataframe thead th {\n",
              "        text-align: right;\n",
              "    }\n",
              "</style>\n",
              "<table border=\"1\" class=\"dataframe\">\n",
              "  <thead>\n",
              "    <tr style=\"text-align: right;\">\n",
              "      <th></th>\n",
              "      <th>Name</th>\n",
              "      <th>Platform</th>\n",
              "      <th>Year</th>\n",
              "      <th>Genre</th>\n",
              "      <th>Publisher</th>\n",
              "      <th>NA_Sales</th>\n",
              "      <th>EU_Sales</th>\n",
              "      <th>JP_Sales</th>\n",
              "      <th>Other_Sales</th>\n",
              "      <th>Global_Sales</th>\n",
              "    </tr>\n",
              "  </thead>\n",
              "  <tbody>\n",
              "    <tr>\n",
              "      <th>0</th>\n",
              "      <td>Wii Sports</td>\n",
              "      <td>Wii</td>\n",
              "      <td>2006.0</td>\n",
              "      <td>Sports</td>\n",
              "      <td>Nintendo</td>\n",
              "      <td>41.49</td>\n",
              "      <td>29.02</td>\n",
              "      <td>3.77</td>\n",
              "      <td>8.46</td>\n",
              "      <td>82.74</td>\n",
              "    </tr>\n",
              "    <tr>\n",
              "      <th>1</th>\n",
              "      <td>Super Mario Bros.</td>\n",
              "      <td>NES</td>\n",
              "      <td>1985.0</td>\n",
              "      <td>Platform</td>\n",
              "      <td>Nintendo</td>\n",
              "      <td>29.08</td>\n",
              "      <td>3.58</td>\n",
              "      <td>6.81</td>\n",
              "      <td>0.77</td>\n",
              "      <td>40.24</td>\n",
              "    </tr>\n",
              "    <tr>\n",
              "      <th>2</th>\n",
              "      <td>Mario Kart Wii</td>\n",
              "      <td>Wii</td>\n",
              "      <td>2008.0</td>\n",
              "      <td>Racing</td>\n",
              "      <td>Nintendo</td>\n",
              "      <td>15.85</td>\n",
              "      <td>12.88</td>\n",
              "      <td>3.79</td>\n",
              "      <td>3.31</td>\n",
              "      <td>35.82</td>\n",
              "    </tr>\n",
              "    <tr>\n",
              "      <th>3</th>\n",
              "      <td>Wii Sports Resort</td>\n",
              "      <td>Wii</td>\n",
              "      <td>2009.0</td>\n",
              "      <td>Sports</td>\n",
              "      <td>Nintendo</td>\n",
              "      <td>15.75</td>\n",
              "      <td>11.01</td>\n",
              "      <td>3.28</td>\n",
              "      <td>2.96</td>\n",
              "      <td>33.00</td>\n",
              "    </tr>\n",
              "    <tr>\n",
              "      <th>4</th>\n",
              "      <td>Pokemon Red/Pokemon Blue</td>\n",
              "      <td>GB</td>\n",
              "      <td>1996.0</td>\n",
              "      <td>Role-Playing</td>\n",
              "      <td>Nintendo</td>\n",
              "      <td>11.27</td>\n",
              "      <td>8.89</td>\n",
              "      <td>10.22</td>\n",
              "      <td>1.00</td>\n",
              "      <td>31.37</td>\n",
              "    </tr>\n",
              "    <tr>\n",
              "      <th>...</th>\n",
              "      <td>...</td>\n",
              "      <td>...</td>\n",
              "      <td>...</td>\n",
              "      <td>...</td>\n",
              "      <td>...</td>\n",
              "      <td>...</td>\n",
              "      <td>...</td>\n",
              "      <td>...</td>\n",
              "      <td>...</td>\n",
              "      <td>...</td>\n",
              "    </tr>\n",
              "    <tr>\n",
              "      <th>16593</th>\n",
              "      <td>Woody Woodpecker in Crazy Castle 5</td>\n",
              "      <td>GBA</td>\n",
              "      <td>2002.0</td>\n",
              "      <td>Platform</td>\n",
              "      <td>Kemco</td>\n",
              "      <td>0.01</td>\n",
              "      <td>0.00</td>\n",
              "      <td>0.00</td>\n",
              "      <td>0.00</td>\n",
              "      <td>0.01</td>\n",
              "    </tr>\n",
              "    <tr>\n",
              "      <th>16594</th>\n",
              "      <td>Men in Black II: Alien Escape</td>\n",
              "      <td>GC</td>\n",
              "      <td>2003.0</td>\n",
              "      <td>Shooter</td>\n",
              "      <td>Infogrames</td>\n",
              "      <td>0.01</td>\n",
              "      <td>0.00</td>\n",
              "      <td>0.00</td>\n",
              "      <td>0.00</td>\n",
              "      <td>0.01</td>\n",
              "    </tr>\n",
              "    <tr>\n",
              "      <th>16595</th>\n",
              "      <td>SCORE International Baja 1000: The Official Game</td>\n",
              "      <td>PS2</td>\n",
              "      <td>2008.0</td>\n",
              "      <td>Racing</td>\n",
              "      <td>Activision</td>\n",
              "      <td>0.00</td>\n",
              "      <td>0.00</td>\n",
              "      <td>0.00</td>\n",
              "      <td>0.00</td>\n",
              "      <td>0.01</td>\n",
              "    </tr>\n",
              "    <tr>\n",
              "      <th>16596</th>\n",
              "      <td>Know How 2</td>\n",
              "      <td>DS</td>\n",
              "      <td>2010.0</td>\n",
              "      <td>Puzzle</td>\n",
              "      <td>7G//AMES</td>\n",
              "      <td>0.00</td>\n",
              "      <td>0.01</td>\n",
              "      <td>0.00</td>\n",
              "      <td>0.00</td>\n",
              "      <td>0.01</td>\n",
              "    </tr>\n",
              "    <tr>\n",
              "      <th>16597</th>\n",
              "      <td>Spirits &amp; Spells</td>\n",
              "      <td>GBA</td>\n",
              "      <td>2003.0</td>\n",
              "      <td>Platform</td>\n",
              "      <td>Wanadoo</td>\n",
              "      <td>0.01</td>\n",
              "      <td>0.00</td>\n",
              "      <td>0.00</td>\n",
              "      <td>0.00</td>\n",
              "      <td>0.01</td>\n",
              "    </tr>\n",
              "  </tbody>\n",
              "</table>\n",
              "<p>16597 rows × 10 columns</p>\n",
              "</div>"
            ],
            "text/plain": [
              "                                                   Name  ... Global_Sales\n",
              "0                                            Wii Sports  ...        82.74\n",
              "1                                     Super Mario Bros.  ...        40.24\n",
              "2                                        Mario Kart Wii  ...        35.82\n",
              "3                                     Wii Sports Resort  ...        33.00\n",
              "4                              Pokemon Red/Pokemon Blue  ...        31.37\n",
              "...                                                 ...  ...          ...\n",
              "16593                Woody Woodpecker in Crazy Castle 5  ...         0.01\n",
              "16594                     Men in Black II: Alien Escape  ...         0.01\n",
              "16595  SCORE International Baja 1000: The Official Game  ...         0.01\n",
              "16596                                        Know How 2  ...         0.01\n",
              "16597                                  Spirits & Spells  ...         0.01\n",
              "\n",
              "[16597 rows x 10 columns]"
            ]
          },
          "metadata": {},
          "execution_count": 64
        }
      ]
    },
    {
      "cell_type": "code",
      "metadata": {
        "colab": {
          "base_uri": "https://localhost:8080/"
        },
        "id": "KdYtBRgeRTwj",
        "outputId": "84192933-8acc-4d6a-b7fb-37a337fd5112"
      },
      "source": [
        "#Did a general search for inconsistent categorical values. Did not find any inconsistencies!\n",
        "raw_VG_data.value_counts(['Name'])"
      ],
      "execution_count": null,
      "outputs": [
        {
          "output_type": "execute_result",
          "data": {
            "text/plain": [
              "Name                                       \n",
              "Need for Speed: Most Wanted                    12\n",
              "FIFA 14                                         9\n",
              "Madden NFL 07                                   9\n",
              "LEGO Marvel Super Heroes                        9\n",
              "Ratatouille                                     9\n",
              "                                               ..\n",
              "PenPen TriIceLon                                1\n",
              "Pen 1 Grand Prix: Penguin no Mondai Special     1\n",
              "Peggle: Dual Shot                               1\n",
              "Peggle Nights                                   1\n",
              "'98 Koshien                                     1\n",
              "Length: 11493, dtype: int64"
            ]
          },
          "metadata": {},
          "execution_count": 65
        }
      ]
    },
    {
      "cell_type": "code",
      "metadata": {
        "colab": {
          "base_uri": "https://localhost:8080/"
        },
        "id": "C5MCoY7kRg-i",
        "outputId": "5fd95e26-031b-4bae-c06a-522e3f183b5d"
      },
      "source": [
        "raw_VG_data.value_counts(['Platform'])"
      ],
      "execution_count": null,
      "outputs": [
        {
          "output_type": "execute_result",
          "data": {
            "text/plain": [
              "Platform\n",
              "DS          2163\n",
              "PS2         2161\n",
              "PS3         1329\n",
              "Wii         1325\n",
              "X360        1265\n",
              "PSP         1213\n",
              "PS          1196\n",
              "PC           960\n",
              "XB           824\n",
              "GBA          822\n",
              "GC           556\n",
              "3DS          509\n",
              "PSV          413\n",
              "PS4          336\n",
              "N64          319\n",
              "SNES         239\n",
              "XOne         213\n",
              "SAT          173\n",
              "WiiU         143\n",
              "2600         133\n",
              "NES           98\n",
              "GB            98\n",
              "DC            52\n",
              "GEN           27\n",
              "NG            12\n",
              "SCD            6\n",
              "WS             6\n",
              "3DO            3\n",
              "TG16           2\n",
              "PCFX           1\n",
              "GG             1\n",
              "dtype: int64"
            ]
          },
          "metadata": {},
          "execution_count": 66
        }
      ]
    },
    {
      "cell_type": "code",
      "metadata": {
        "colab": {
          "base_uri": "https://localhost:8080/"
        },
        "id": "LCrBFP0BRm8G",
        "outputId": "e915404b-f32f-4bd0-b84c-4d27fc3dd515"
      },
      "source": [
        "raw_VG_data.value_counts(['Genre'])"
      ],
      "execution_count": null,
      "outputs": [
        {
          "output_type": "execute_result",
          "data": {
            "text/plain": [
              "Genre       \n",
              "Action          3316\n",
              "Sports          2346\n",
              "Misc            1739\n",
              "Role-Playing    1488\n",
              "Shooter         1310\n",
              "Adventure       1286\n",
              "Racing          1249\n",
              "Platform         886\n",
              "Simulation       867\n",
              "Fighting         848\n",
              "Strategy         681\n",
              "Puzzle           582\n",
              "dtype: int64"
            ]
          },
          "metadata": {},
          "execution_count": 67
        }
      ]
    },
    {
      "cell_type": "code",
      "metadata": {
        "colab": {
          "base_uri": "https://localhost:8080/"
        },
        "id": "pKQ2O_lKRvNb",
        "outputId": "b82ece6d-c4a2-4a3a-d3d8-8df23523235a"
      },
      "source": [
        "raw_VG_data.value_counts(['Publisher'])"
      ],
      "execution_count": null,
      "outputs": [
        {
          "output_type": "execute_result",
          "data": {
            "text/plain": [
              "Publisher                   \n",
              "Electronic Arts                 1351\n",
              "Activision                       975\n",
              "Namco Bandai Games               932\n",
              "Ubisoft                          921\n",
              "Konami Digital Entertainment     832\n",
              "                                ... \n",
              "EON Digital Entertainment          1\n",
              "EA Games                           1\n",
              "DreamWorks Interactive             1\n",
              "Rain Games                         1\n",
              "Quelle                             1\n",
              "Length: 579, dtype: int64"
            ]
          },
          "metadata": {},
          "execution_count": 68
        }
      ]
    },
    {
      "cell_type": "code",
      "metadata": {
        "colab": {
          "base_uri": "https://localhost:8080/",
          "height": 300
        },
        "id": "n_A8t-fBRw5u",
        "outputId": "456afbbd-26b1-462e-ca45-ecaec78b8d15"
      },
      "source": [
        "# Used .describe to get a sense of data distribution (min/max in particular)to note any outliers. \n",
        "raw_VG_data.describe()"
      ],
      "execution_count": null,
      "outputs": [
        {
          "output_type": "execute_result",
          "data": {
            "text/html": [
              "<div>\n",
              "<style scoped>\n",
              "    .dataframe tbody tr th:only-of-type {\n",
              "        vertical-align: middle;\n",
              "    }\n",
              "\n",
              "    .dataframe tbody tr th {\n",
              "        vertical-align: top;\n",
              "    }\n",
              "\n",
              "    .dataframe thead th {\n",
              "        text-align: right;\n",
              "    }\n",
              "</style>\n",
              "<table border=\"1\" class=\"dataframe\">\n",
              "  <thead>\n",
              "    <tr style=\"text-align: right;\">\n",
              "      <th></th>\n",
              "      <th>Year</th>\n",
              "      <th>NA_Sales</th>\n",
              "      <th>EU_Sales</th>\n",
              "      <th>JP_Sales</th>\n",
              "      <th>Other_Sales</th>\n",
              "      <th>Global_Sales</th>\n",
              "    </tr>\n",
              "  </thead>\n",
              "  <tbody>\n",
              "    <tr>\n",
              "      <th>count</th>\n",
              "      <td>16598.000000</td>\n",
              "      <td>16598.000000</td>\n",
              "      <td>16598.000000</td>\n",
              "      <td>16598.000000</td>\n",
              "      <td>16598.000000</td>\n",
              "      <td>16598.000000</td>\n",
              "    </tr>\n",
              "    <tr>\n",
              "      <th>mean</th>\n",
              "      <td>2006.399807</td>\n",
              "      <td>0.264667</td>\n",
              "      <td>0.146652</td>\n",
              "      <td>0.077782</td>\n",
              "      <td>0.048063</td>\n",
              "      <td>0.537441</td>\n",
              "    </tr>\n",
              "    <tr>\n",
              "      <th>std</th>\n",
              "      <td>5.781426</td>\n",
              "      <td>0.816683</td>\n",
              "      <td>0.505351</td>\n",
              "      <td>0.309291</td>\n",
              "      <td>0.188588</td>\n",
              "      <td>1.555028</td>\n",
              "    </tr>\n",
              "    <tr>\n",
              "      <th>min</th>\n",
              "      <td>1980.000000</td>\n",
              "      <td>0.000000</td>\n",
              "      <td>0.000000</td>\n",
              "      <td>0.000000</td>\n",
              "      <td>0.000000</td>\n",
              "      <td>0.010000</td>\n",
              "    </tr>\n",
              "    <tr>\n",
              "      <th>25%</th>\n",
              "      <td>2003.000000</td>\n",
              "      <td>0.000000</td>\n",
              "      <td>0.000000</td>\n",
              "      <td>0.000000</td>\n",
              "      <td>0.000000</td>\n",
              "      <td>0.060000</td>\n",
              "    </tr>\n",
              "    <tr>\n",
              "      <th>50%</th>\n",
              "      <td>2007.000000</td>\n",
              "      <td>0.080000</td>\n",
              "      <td>0.020000</td>\n",
              "      <td>0.000000</td>\n",
              "      <td>0.010000</td>\n",
              "      <td>0.170000</td>\n",
              "    </tr>\n",
              "    <tr>\n",
              "      <th>75%</th>\n",
              "      <td>2010.000000</td>\n",
              "      <td>0.240000</td>\n",
              "      <td>0.110000</td>\n",
              "      <td>0.040000</td>\n",
              "      <td>0.040000</td>\n",
              "      <td>0.470000</td>\n",
              "    </tr>\n",
              "    <tr>\n",
              "      <th>max</th>\n",
              "      <td>2020.000000</td>\n",
              "      <td>41.490000</td>\n",
              "      <td>29.020000</td>\n",
              "      <td>10.220000</td>\n",
              "      <td>10.570000</td>\n",
              "      <td>82.740000</td>\n",
              "    </tr>\n",
              "  </tbody>\n",
              "</table>\n",
              "</div>"
            ],
            "text/plain": [
              "               Year      NA_Sales  ...   Other_Sales  Global_Sales\n",
              "count  16598.000000  16598.000000  ...  16598.000000  16598.000000\n",
              "mean    2006.399807      0.264667  ...      0.048063      0.537441\n",
              "std        5.781426      0.816683  ...      0.188588      1.555028\n",
              "min     1980.000000      0.000000  ...      0.000000      0.010000\n",
              "25%     2003.000000      0.000000  ...      0.000000      0.060000\n",
              "50%     2007.000000      0.080000  ...      0.010000      0.170000\n",
              "75%     2010.000000      0.240000  ...      0.040000      0.470000\n",
              "max     2020.000000     41.490000  ...     10.570000     82.740000\n",
              "\n",
              "[8 rows x 6 columns]"
            ]
          },
          "metadata": {},
          "execution_count": 69
        }
      ]
    },
    {
      "cell_type": "code",
      "metadata": {
        "colab": {
          "base_uri": "https://localhost:8080/",
          "height": 322
        },
        "id": "Z5q87RqGSC_F",
        "outputId": "0bf8124d-cf5c-418a-a6a7-aae7f1cf2cb9"
      },
      "source": [
        "#Created a heatmap of the data. Notice that Japan's sales remained the most consistent of all.\n",
        "\n",
        "correlation = raw_VG_data.corr()\n",
        "sns.heatmap(correlation , cmap = 'Blues');"
      ],
      "execution_count": null,
      "outputs": [
        {
          "output_type": "display_data",
          "data": {
            "image/png": "[encoded data removed]",
            "text/plain": [
              "<Figure size 432x288 with 2 Axes>"
            ]
          },
          "metadata": {
            "needs_background": "light"
          }
        }
      ]
    },
    {
      "cell_type": "code",
      "metadata": {
        "colab": {
          "base_uri": "https://localhost:8080/",
          "height": 294
        },
        "id": "4hoBu1XwS1I2",
        "outputId": "ed3e28f8-a076-4e96-a5c0-4e612d84bdf8"
      },
      "source": [
        "# Utilized a histogram to get a visuatlization of data distribution for this particular column as this will be the main focus of the project\n",
        "raw_VG_data['JP_Sales'].hist();\n",
        "plt.title('Japanese Sales Data')\n",
        "plt.xlabel('Profit')\n",
        "plt.ylabel('Number of titles sold');"
      ],
      "execution_count": null,
      "outputs": [
        {
          "output_type": "display_data",
          "data": {
            "image/png": "[encoded data removed]",
            "text/plain": [
              "<Figure size 432x288 with 1 Axes>"
            ]
          },
          "metadata": {
            "needs_background": "light"
          }
        }
      ]
    },
    {
      "cell_type": "code",
      "metadata": {
        "id": "jDXl_VT1Dkp6"
      },
      "source": [
        "import numpy as np\n",
        "import matplotlib.pyplot as plt\n",
        "import pandas as pd\n",
        "from sklearn.model_selection import train_test_split\n",
        "from sklearn.preprocessing import StandardScaler\n",
        "from sklearn.cluster import AgglomerativeClustering\n",
        "import scipy.cluster.hierarchy as sch\n",
        "from sklearn.cluster import KMeans, AgglomerativeClustering, DBSCAN\n",
        "from sklearn.preprocessing import StandardScaler\n",
        "from sklearn.cluster import KMeans, AgglomerativeClustering, DBSCAN\n",
        "from sklearn.metrics import silhouette_score\n",
        "\n",
        "from sklearn.model_selection import train_test_split\n",
        "from sklearn.preprocessing import StandardScaler\n",
        "from sklearn.cluster import AgglomerativeClustering\n",
        "import scipy.cluster.hierarchy as sch"
      ],
      "execution_count": null,
      "outputs": []
    },
    {
      "cell_type": "code",
      "metadata": {
        "id": "sZ8uW43sDLok"
      },
      "source": [
        "JapanSales = raw_VG_data[['Year','JP_Sales']]"
      ],
      "execution_count": null,
      "outputs": []
    },
    {
      "cell_type": "code",
      "metadata": {
        "id": "GPmC4ib97FMd"
      },
      "source": [
        "scaler = StandardScaler()"
      ],
      "execution_count": null,
      "outputs": []
    },
    {
      "cell_type": "code",
      "metadata": {
        "id": "m69hKiYWDpnm"
      },
      "source": [
        "scaled_df = scaler.fit_transform(JapanSales)"
      ],
      "execution_count": null,
      "outputs": []
    },
    {
      "cell_type": "code",
      "metadata": {
        "colab": {
          "base_uri": "https://localhost:8080/",
          "height": 278
        },
        "id": "DgpxIFM4FUG1",
        "outputId": "59300294-df19-4924-8e94-e858d07e83f9"
      },
      "source": [
        "silhouette_scores = []\n",
        "for i in range(2, 11):\n",
        "  kmeans = KMeans(n_clusters = i)\n",
        "  kmeans.fit(scaled_df)\n",
        "  silhouette_scores.append(silhouette_score(scaled_df, kmeans.labels_))\n",
        "# Visualize scores\n",
        "plt.plot(range(2, 11), silhouette_scores, marker = '.')\n",
        "plt.xlabel('Number of Clusters')\n",
        "plt.ylabel('Silhouette Score');"
      ],
      "execution_count": null,
      "outputs": [
        {
          "output_type": "display_data",
          "data": {
            "image/png": "[encoded data removed]",
            "text/plain": [
              "<Figure size 432x288 with 1 Axes>"
            ]
          },
          "metadata": {
            "needs_background": "light"
          }
        }
      ]
    },
    {
      "cell_type": "code",
      "metadata": {
        "colab": {
          "base_uri": "https://localhost:8080/"
        },
        "id": "XgUYYhyyGcGV",
        "outputId": "0a2e99f1-38fb-4925-bc3b-29e22b8d1ecc"
      },
      "source": [
        "kmeans = KMeans(n_clusters = 2)\n",
        "kmeans.fit(scaled_df)\n",
        "silhouette_score(scaled_df, kmeans.labels_)\n",
        "\n",
        "#Kmeans = 3\n",
        "#0.509368464437955\n",
        "\n",
        "#kmeans = 4\n",
        "#0.5297510706231806"
      ],
      "execution_count": null,
      "outputs": [
        {
          "output_type": "execute_result",
          "data": {
            "text/plain": [
              "0.5138326692188488"
            ]
          },
          "metadata": {},
          "execution_count": 77
        }
      ]
    },
    {
      "cell_type": "code",
      "metadata": {
        "colab": {
          "base_uri": "https://localhost:8080/"
        },
        "id": "HbhkzvghGmcx",
        "outputId": "0979c60d-9b49-44bf-db72-e83b0b3c12b9"
      },
      "source": [
        "hc = AgglomerativeClustering(n_clusters = 2)\n",
        "hc.fit(scaled_df)\n",
        "silhouette_score(scaled_df, hc.labels_)\n",
        "\n",
        "#hc = 3\n",
        "#0.5677351532131727\n",
        "\n",
        "#hc = 2\n",
        "#0.5833374787995859"
      ],
      "execution_count": null,
      "outputs": [
        {
          "output_type": "execute_result",
          "data": {
            "text/plain": [
              "0.5833374787995859"
            ]
          },
          "metadata": {},
          "execution_count": 78
        }
      ]
    },
    {
      "cell_type": "code",
      "metadata": {
        "colab": {
          "base_uri": "https://localhost:8080/"
        },
        "id": "Xj3BaJ0OGqCK",
        "outputId": "03db8158-4027-4059-b8af-8b7899509efc"
      },
      "source": [
        "dbs = DBSCAN(eps = 0.5, min_samples = 2).fit(scaled_df)\n",
        "silhouette_score(scaled_df, dbs.labels_)\n",
        "\n",
        "#dbs = 3\n",
        "#0.787588189345394\n",
        "\n",
        "#dbs = 2\n",
        "#0.7885451346664195"
      ],
      "execution_count": null,
      "outputs": [
        {
          "output_type": "execute_result",
          "data": {
            "text/plain": [
              "0.7885451346664195"
            ]
          },
          "metadata": {},
          "execution_count": 79
        }
      ]
    },
    {
      "cell_type": "markdown",
      "metadata": {
        "id": "SBwE-RenHdRq"
      },
      "source": [
        "The highest performing model is DBS with oddly enough the silouette score of .78 with a minimum of 2 clusters as opposed to 3. I was predicting that 3 would be the correct number given the graph above. Regardless, I would use DBS as the production model."
      ]
    },
    {
      "cell_type": "markdown",
      "metadata": {
        "id": "k-96K79Y8PVY"
      },
      "source": [
        "Edit: This is a superised learning model, and the goal of this project is to identify the sales trends of Japanese video games sold from 1980-2010.\n",
        "\n"
      ]
    },
    {
      "cell_type": "code",
      "metadata": {
        "id": "iTaOf16m6TbF"
      },
      "source": [
        "import numpy as np\n",
        "import matplotlib.pyplot as plt\n",
        "import pandas as pd\n",
        "from sklearn.preprocessing import StandardScaler\n",
        "from sklearn.cluster import DBSCAN"
      ],
      "execution_count": null,
      "outputs": []
    },
    {
      "cell_type": "code",
      "metadata": {
        "colab": {
          "base_uri": "https://localhost:8080/",
          "height": 206
        },
        "id": "kWl4Oa9C6V7N",
        "outputId": "ed94d49c-df61-42b8-8bb7-12431033d7fb"
      },
      "source": [
        "raw_VG_data = pd.read_csv('/content/videoGameSales.csv')\n",
        "raw_VG_data = raw_VG_data[['Year', 'JP_Sales']]\n",
        "raw_VG_data.head()"
      ],
      "execution_count": null,
      "outputs": [
        {
          "output_type": "execute_result",
          "data": {
            "text/html": [
              "<div>\n",
              "<style scoped>\n",
              "    .dataframe tbody tr th:only-of-type {\n",
              "        vertical-align: middle;\n",
              "    }\n",
              "\n",
              "    .dataframe tbody tr th {\n",
              "        vertical-align: top;\n",
              "    }\n",
              "\n",
              "    .dataframe thead th {\n",
              "        text-align: right;\n",
              "    }\n",
              "</style>\n",
              "<table border=\"1\" class=\"dataframe\">\n",
              "  <thead>\n",
              "    <tr style=\"text-align: right;\">\n",
              "      <th></th>\n",
              "      <th>Year</th>\n",
              "      <th>JP_Sales</th>\n",
              "    </tr>\n",
              "  </thead>\n",
              "  <tbody>\n",
              "    <tr>\n",
              "      <th>0</th>\n",
              "      <td>2006.0</td>\n",
              "      <td>3.77</td>\n",
              "    </tr>\n",
              "    <tr>\n",
              "      <th>1</th>\n",
              "      <td>1985.0</td>\n",
              "      <td>6.81</td>\n",
              "    </tr>\n",
              "    <tr>\n",
              "      <th>2</th>\n",
              "      <td>2008.0</td>\n",
              "      <td>3.79</td>\n",
              "    </tr>\n",
              "    <tr>\n",
              "      <th>3</th>\n",
              "      <td>2009.0</td>\n",
              "      <td>3.28</td>\n",
              "    </tr>\n",
              "    <tr>\n",
              "      <th>4</th>\n",
              "      <td>1996.0</td>\n",
              "      <td>10.22</td>\n",
              "    </tr>\n",
              "  </tbody>\n",
              "</table>\n",
              "</div>"
            ],
            "text/plain": [
              "     Year  JP_Sales\n",
              "0  2006.0      3.77\n",
              "1  1985.0      6.81\n",
              "2  2008.0      3.79\n",
              "3  2009.0      3.28\n",
              "4  1996.0     10.22"
            ]
          },
          "metadata": {},
          "execution_count": 81
        }
      ]
    },
    {
      "cell_type": "code",
      "metadata": {
        "id": "zIsCMDtG67iy"
      },
      "source": [
        "scaled_df = scaler.fit_transform(df)"
      ],
      "execution_count": null,
      "outputs": []
    },
    {
      "cell_type": "code",
      "metadata": {
        "id": "dnHIQ5YH7Oam"
      },
      "source": [
        "dbs = DBSCAN(eps = 0.5, min_samples = 5).fit(scaled_df)"
      ],
      "execution_count": null,
      "outputs": []
    },
    {
      "cell_type": "code",
      "metadata": {
        "id": "ZuEc3YS_7RoF"
      },
      "source": [
        "raw_VG_data['cluster'] = dbs.labels_"
      ],
      "execution_count": null,
      "outputs": []
    },
    {
      "cell_type": "code",
      "metadata": {
        "colab": {
          "base_uri": "https://localhost:8080/",
          "height": 294
        },
        "id": "jMA3sxW57TVc",
        "outputId": "f5bf95d5-ad3e-4d49-aba0-46a812e8ef2f"
      },
      "source": [
        "plt.scatter(raw_VG_data['Year'], raw_VG_data['JP_Sales'], c = raw_VG_data['cluster'])\n",
        "plt.xlabel('Year')\n",
        "plt.ylabel('Japanese Sales')\n",
        "plt.title('Clusters of Japanese Video Game Sales');"
      ],
      "execution_count": null,
      "outputs": [
        {
          "output_type": "display_data",
          "data": {
            "image/png": "[encoded data removed]",
            "text/plain": [
              "<Figure size 432x288 with 1 Axes>"
            ]
          },
          "metadata": {
            "needs_background": "light"
          }
        }
      ]
    },
    {
      "cell_type": "markdown",
      "metadata": {
        "id": "VcktnkSQtk7q"
      },
      "source": [
        "To provide further clarification of my review of Japanese video game sales, the graph above shows not the total of sales, but the clustered activity of which the titles were sold. The clustering at the bottom shows that there is a consistent rate of games sold, while the purple dots shows where games were sold exceptionally high, and the yellow shows where ther is overlap. "
      ]
    }
  ]
}